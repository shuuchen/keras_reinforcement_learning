{
 "cells": [
  {
   "cell_type": "code",
   "execution_count": 2,
   "metadata": {
    "collapsed": true
   },
   "outputs": [],
   "source": [
    "import numpy as np"
   ]
  },
  {
   "cell_type": "markdown",
   "metadata": {},
   "source": [
    "### Markov Chain\n",
    "- Set of possible states\n",
    "- Initial state\n",
    "- Transition Model"
   ]
  },
  {
   "cell_type": "code",
   "execution_count": 5,
   "metadata": {
    "collapsed": false
   },
   "outputs": [
    {
     "name": "stdout",
     "output_type": "stream",
     "text": [
      "[[0.844 0.156]\n",
      " [0.78  0.22 ]]\n",
      "[[0.83333333 0.16666667]\n",
      " [0.83333333 0.16666667]]\n",
      "[[0.83333333 0.16666667]\n",
      " [0.83333333 0.16666667]]\n"
     ]
    }
   ],
   "source": [
    "# transition matrix\n",
    "T = np.array([[0.9, 0.1], [0.5, 0.5]])\n",
    "\n",
    "# T after some steps\n",
    "T_3 = np.linalg.matrix_power(T, 3)\n",
    "T_50 = np.linalg.matrix_power(T, 50)\n",
    "T_100 = np.linalg.matrix_power(T, 100)\n",
    "\n",
    "print(T_3)\n",
    "print(T_50)\n",
    "print(T_100)"
   ]
  },
  {
   "cell_type": "code",
   "execution_count": 6,
   "metadata": {
    "collapsed": false
   },
   "outputs": [
    {
     "name": "stdout",
     "output_type": "stream",
     "text": [
      "[[0.9 0.1]]\n",
      "[[0.844 0.156]]\n",
      "[[0.83333333 0.16666667]]\n",
      "[[0.83333333 0.16666667]]\n"
     ]
    }
   ],
   "source": [
    "# initial distribution\n",
    "v = np.array([[1, 0]])\n",
    "\n",
    "# distribution after some steps\n",
    "v_1 = np.dot(v, T)\n",
    "v_3 = np.dot(v, T_3)\n",
    "v_50 = np.dot(v, T_50)\n",
    "v_100 = np.dot(v, T_100)\n",
    "\n",
    "print(v_1)\n",
    "print(v_3)\n",
    "print(v_50)\n",
    "print(v_100)"
   ]
  },
  {
   "cell_type": "markdown",
   "metadata": {},
   "source": [
    "### Markov Decision Process\n",
    "- Set of possible states\n",
    "- Initial state\n",
    "- Set of possible actions\n",
    "- Transition model\n",
    "- Reward function"
   ]
  },
  {
   "cell_type": "code",
   "execution_count": null,
   "metadata": {
    "collapsed": true
   },
   "outputs": [],
   "source": []
  }
 ],
 "metadata": {
  "kernelspec": {
   "display_name": "Python 3",
   "language": "python",
   "name": "python3"
  },
  "language_info": {
   "codemirror_mode": {
    "name": "ipython",
    "version": 3
   },
   "file_extension": ".py",
   "mimetype": "text/x-python",
   "name": "python",
   "nbconvert_exporter": "python",
   "pygments_lexer": "ipython3",
   "version": "3.6.5"
  }
 },
 "nbformat": 4,
 "nbformat_minor": 2
}
